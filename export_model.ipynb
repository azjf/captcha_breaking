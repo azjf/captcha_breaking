{
 "cells": [
  {
   "cell_type": "code",
   "execution_count": 1,
   "metadata": {},
   "outputs": [],
   "source": [
    "import tensorflow as tf\n",
    "import os\n",
    "\n",
    "from tensorflow.python.saved_model import signature_constants\n",
    "from tensorflow.python.saved_model import signature_def_utils\n",
    "from tensorflow.python.saved_model import tag_constants\n",
    "from tensorflow.python.saved_model.utils import build_tensor_info"
   ]
  },
  {
   "cell_type": "code",
   "execution_count": 2,
   "metadata": {},
   "outputs": [
    {
     "name": "stdout",
     "output_type": "stream",
     "text": [
      "./output/model/model.ckpt-14000\n",
      "INFO:tensorflow:Restoring parameters from ./output/model/model.ckpt-14000\n"
     ]
    }
   ],
   "source": [
    "tf.reset_default_graph()\n",
    "sess = tf.Session(config=tf.ConfigProto(device_count={'GPU': 0}))\n",
    "\n",
    "model_path = './output/model'\n",
    "ckpt_path = tf.train.latest_checkpoint(model_path)\n",
    "meta_graph_path = ckpt_path + '.meta'\n",
    "print(ckpt_path)\n",
    "\n",
    "saver = tf.train.import_meta_graph(meta_graph_path)\n",
    "saver.restore(sess, ckpt_path)\n",
    "\n",
    "graph = tf.get_default_graph()"
   ]
  },
  {
   "cell_type": "code",
   "execution_count": 3,
   "metadata": {},
   "outputs": [
    {
     "data": {
      "text/plain": [
       "(<tf.Tensor 'test_inputs/x_ph:0' shape=(?, 64, 128, 3) dtype=float32>,\n",
       " <tf.Tensor 'test_inputs/y_ph:0' shape=(?, 4) dtype=int64>,\n",
       " <tf.Tensor 'test_eval/preds:0' shape=(?, 4) dtype=int64>,\n",
       " <tf.Tensor 'test_eval/acc:0' shape=() dtype=float32>,\n",
       " <tf.Tensor 'test_eval/acc_:0' shape=() dtype=float32>)"
      ]
     },
     "execution_count": 3,
     "metadata": {},
     "output_type": "execute_result"
    }
   ],
   "source": [
    "x_ph = graph.get_tensor_by_name('test_inputs/x_ph:0')\n",
    "y_ph = graph.get_tensor_by_name('test_inputs/y_ph:0')\n",
    "\n",
    "preds = graph.get_tensor_by_name('test_eval/preds:0')\n",
    "acc = graph.get_tensor_by_name('test_eval/acc:0')\n",
    "acc_ = graph.get_tensor_by_name('test_eval/acc_:0')\n",
    "\n",
    "x_ph, y_ph, preds, acc, acc_"
   ]
  },
  {
   "cell_type": "code",
   "execution_count": 4,
   "metadata": {},
   "outputs": [
    {
     "name": "stdout",
     "output_type": "stream",
     "text": [
      "INFO:tensorflow:No assets to save.\n",
      "INFO:tensorflow:No assets to write.\n",
      "INFO:tensorflow:SavedModel written to: b'./output/model_serving/1/saved_model.pb'\n"
     ]
    },
    {
     "data": {
      "text/plain": [
       "b'./output/model_serving/1/saved_model.pb'"
      ]
     },
     "execution_count": 4,
     "metadata": {},
     "output_type": "execute_result"
    }
   ],
   "source": [
    "export_dir = './output/model_serving/1'\n",
    "if os.path.exists(export_dir):\n",
    "    tf.gfile.DeleteRecursively(export_dir)\n",
    "\n",
    "builder = tf.saved_model.builder.SavedModelBuilder(export_dir)\n",
    "\n",
    "x_ph_info = build_tensor_info(x_ph)\n",
    "y_ph_info = build_tensor_info(y_ph)\n",
    "preds_info = build_tensor_info(preds)\n",
    "acc_info = build_tensor_info(acc)\n",
    "acc_info_ = build_tensor_info(acc_)\n",
    "\n",
    "signature_def = signature_def_utils.build_signature_def(\n",
    "    inputs={'x_ph': x_ph_info, \n",
    "           'y_ph': y_ph_info\n",
    "           },\n",
    "    outputs={'preds': preds_info, \n",
    "            'acc': acc_info,\n",
    "            'acc_': acc_info_\n",
    "            },\n",
    "    method_name=signature_constants.PREDICT_METHOD_NAME\n",
    ")\n",
    "\n",
    "builder.add_meta_graph_and_variables(sess, [tag_constants.SERVING],\n",
    "                                     signature_def_map={\n",
    "                                         signature_constants.DEFAULT_SERVING_SIGNATURE_DEF_KEY: signature_def\n",
    "                                     })\n",
    "builder.save()"
   ]
  },
  {
   "cell_type": "code",
   "execution_count": null,
   "metadata": {},
   "outputs": [],
   "source": []
  }
 ],
 "metadata": {
  "kernelspec": {
   "display_name": "Python 3",
   "language": "python",
   "name": "python3"
  },
  "language_info": {
   "codemirror_mode": {
    "name": "ipython",
    "version": 3
   },
   "file_extension": ".py",
   "mimetype": "text/x-python",
   "name": "python",
   "nbconvert_exporter": "python",
   "pygments_lexer": "ipython3",
   "version": "3.6.5"
  }
 },
 "nbformat": 4,
 "nbformat_minor": 2
}
