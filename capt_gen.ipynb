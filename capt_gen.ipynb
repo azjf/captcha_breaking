{
 "cells": [
  {
   "cell_type": "code",
   "execution_count": 1,
   "metadata": {},
   "outputs": [],
   "source": [
    "import tensorflow as tf\n",
    "import numpy as np\n",
    "import os\n",
    "import string\n",
    "from captcha.image import ImageCaptcha"
   ]
  },
  {
   "cell_type": "code",
   "execution_count": 2,
   "metadata": {},
   "outputs": [],
   "source": [
    "charset = string.digits + string.ascii_uppercase#string.ascii_letters\n",
    "charset = np.array(list(charset))\n",
    "height, width, n_len, n_classes = 64, 128, 4, len(charset)\n",
    "\n",
    "batch_size = 64\n",
    "\n",
    "output_dir = './tfrecords/captcha_py'"
   ]
  },
  {
   "cell_type": "code",
   "execution_count": 3,
   "metadata": {},
   "outputs": [
    {
     "name": "stdout",
     "output_type": "stream",
     "text": [
      "(64, 64, 128, 3) (64, 4)\n",
      "1529580 251\n",
      "NOBN\n"
     ]
    }
   ],
   "source": [
    "def capt_gen(batch_size=batch_size, n_len=n_len):\n",
    "    gen = ImageCaptcha(height=height, width=width)\n",
    "    \n",
    "    while True:\n",
    "        x, y = [], []\n",
    "        for i in range(batch_size):\n",
    "            chars_idx = [np.random.choice(range(n_classes)) for _ in range(n_len)]\n",
    "            x.append(np.array(gen.generate_image(charset[chars_idx])))\n",
    "            y.append(chars_idx)\n",
    "        \n",
    "        x, y = np.array(x), np.array(y)\n",
    "        if (x.shape != (batch_size, height, width, 3)) or (y.shape != (batch_size, n_len)):\n",
    "            continue\n",
    "        yield x, y\n",
    "\n",
    "        \n",
    "def capt_decode(y):\n",
    "    return ''.join([charset[i] for i in y])\n",
    "\n",
    "\n",
    "if __name__ == '__main__':\n",
    "    gen = capt_gen()\n",
    "    x, y = next(gen)\n",
    "    print(x.shape, y.shape)\n",
    "\n",
    "    a, b = next(gen)\n",
    "    print(np.sum(a != x), np.sum(b != y))\n",
    "    \n",
    "    print(capt_decode(next(gen)[1][0]))"
   ]
  },
  {
   "cell_type": "code",
   "execution_count": 4,
   "metadata": {},
   "outputs": [],
   "source": [
    "def _tfrecords_gen():\n",
    "\n",
    "    def _capt_gen_single(batch_size=batch_size, n_len=n_len):\n",
    "        gen = ImageCaptcha(height=height, width=width)\n",
    "\n",
    "        while True:\n",
    "            chars_idx = [np.random.choice(range(n_classes)) for _ in range(n_len)]\n",
    "            x = gen.generate(charset[chars_idx]).getvalue()\n",
    "            y = np.array(chars_idx).astype(np.uint8)\n",
    "\n",
    "            yield x, y\n",
    "\n",
    "    gen = _capt_gen_single()    \n",
    "\n",
    "    \n",
    "    if not os.path.exists(output_dir):\n",
    "        os.makedirs(output_dir)\n",
    "    \n",
    "    \n",
    "    def _bytes_feature(value):\n",
    "        return tf.train.Feature(bytes_list=tf.train.BytesList(value=[value]))\n",
    "    \n",
    "    for i in range(40):\n",
    "        path = os.path.join(output_dir, 'captcha_%d.tfrecords' % i)\n",
    "        \n",
    "        with tf.python_io.TFRecordWriter(path) as writer:        \n",
    "            for _ in range(10000):\n",
    "                image, label = next(gen)\n",
    "                label_raw = label.tobytes()\n",
    "\n",
    "                example = tf.train.Example(\n",
    "                    features=tf.train.Features(\n",
    "                        feature={\n",
    "                            'image': _bytes_feature(image),\n",
    "                            'label': _bytes_feature(label_raw)\n",
    "                        }\n",
    "                    )\n",
    "                )\n",
    "                writer.write(example.SerializeToString())"
   ]
  },
  {
   "cell_type": "code",
   "execution_count": 5,
   "metadata": {},
   "outputs": [
    {
     "name": "stdout",
     "output_type": "stream",
     "text": [
      "Write tfrecords ? (y/n): n\n"
     ]
    }
   ],
   "source": [
    "if __name__ == '__main__':\n",
    "    ensure = input('Write tfrecords ? (y/n): ')\n",
    "    if ensure == 'y':\n",
    "        _tfrecords_gen()"
   ]
  },
  {
   "cell_type": "code",
   "execution_count": null,
   "metadata": {},
   "outputs": [],
   "source": []
  }
 ],
 "metadata": {
  "kernelspec": {
   "display_name": "Python 3",
   "language": "python",
   "name": "python3"
  },
  "language_info": {
   "codemirror_mode": {
    "name": "ipython",
    "version": 3
   },
   "file_extension": ".py",
   "mimetype": "text/x-python",
   "name": "python",
   "nbconvert_exporter": "python",
   "pygments_lexer": "ipython3",
   "version": "3.6.5"
  }
 },
 "nbformat": 4,
 "nbformat_minor": 2
}
