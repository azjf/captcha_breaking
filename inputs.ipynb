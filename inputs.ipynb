{
 "cells": [
  {
   "cell_type": "code",
   "execution_count": 1,
   "metadata": {},
   "outputs": [],
   "source": [
    "import tensorflow as tf\n",
    "import numpy as np\n",
    "import matplotlib.pyplot as plt\n",
    "import string\n",
    "import os\n",
    "\n",
    "from capt_gen import capt_decode\n",
    "from capt_gen import height, width, n_len"
   ]
  },
  {
   "cell_type": "code",
   "execution_count": 2,
   "metadata": {},
   "outputs": [],
   "source": [
    "def _read_example(filename_queue):\n",
    "    \n",
    "    class _Record(object):\n",
    "        pass\n",
    "    result = _Record()\n",
    "    \n",
    "    result.height = height\n",
    "    result.width = width\n",
    "    result.depth = 3\n",
    "    \n",
    "    reader = tf.TFRecordReader()\n",
    "    result.key, serialized_example = reader.read(filename_queue)\n",
    "\n",
    "    features = tf.parse_single_example(\n",
    "        serialized_example,\n",
    "        features={\n",
    "            'image': tf.FixedLenFeature([], tf.string),\n",
    "            'label': tf.FixedLenFeature([], tf.string)\n",
    "        }\n",
    "    )\n",
    "\n",
    "    image = tf.image.decode_png(features['image'])\n",
    "    result.uint8image = tf.reshape(image, [result.height, result.width, result.depth])\n",
    "    label = tf.decode_raw(features['label'], tf.uint8)\n",
    "    result.label = tf.cast(label, tf.int64)\n",
    "    return result\n",
    "\n",
    "\n",
    "def _get_batch(image, label, min_queue_examples, batch_size):\n",
    "    num_preprocess_threads = 16\n",
    "    \n",
    "    images, labels = tf.train.shuffle_batch(\n",
    "        [image, label], \n",
    "        batch_size = batch_size, \n",
    "        num_threads = num_preprocess_threads, \n",
    "        capacity = min_queue_examples + 3*batch_size, \n",
    "        min_after_dequeue=min_queue_examples\n",
    "    )\n",
    "    \n",
    "    tf.summary.image('images', images)\n",
    "    return images, tf.reshape(labels, [batch_size, n_len])"
   ]
  },
  {
   "cell_type": "code",
   "execution_count": 3,
   "metadata": {},
   "outputs": [],
   "source": [
    "def inputs(data_dir, batch_size=64):\n",
    "    path = os.path.join(data_dir, '*/*.tfrecords')\n",
    "    filename_queue = tf.train.string_input_producer(tf.train.match_filenames_once(path))\n",
    "    \n",
    "    with tf.variable_scope('preprocessing'):\n",
    "        example = _read_example(filename_queue)\n",
    "        image, label = example.uint8image, example.label\n",
    "        std_image = tf.image.per_image_standardization(image)\n",
    "        \n",
    "        std_image.set_shape([example.height, example.width, example.depth])\n",
    "        label.set_shape([n_len])\n",
    "        \n",
    "        min_fraction_of_examples_in_queue = .004\n",
    "        num_examples_per_epoch = 400000\n",
    "        min_queue_examples = int(num_examples_per_epoch * min_fraction_of_examples_in_queue)\n",
    "        print('Filling queue with %d captcha images before starting to train. '\n",
    "             'This will take a few minutes' % min_queue_examples)\n",
    "        \n",
    "    return _get_batch(std_image, label, min_queue_examples, batch_size)"
   ]
  },
  {
   "cell_type": "code",
   "execution_count": 4,
   "metadata": {},
   "outputs": [
    {
     "name": "stdout",
     "output_type": "stream",
     "text": [
      "Filling queue with 1600 captcha images before starting to train. This will take a few minutes\n"
     ]
    },
    {
     "data": {
      "image/png": "[encoded data removed]",
      "text/plain": [
       "<Figure size 432x288 with 1 Axes>"
      ]
     },
     "metadata": {},
     "output_type": "display_data"
    }
   ],
   "source": [
    "if __name__ == '__main__':    \n",
    "    images, labels = inputs('./tfrecords')\n",
    "    image, label = images[0], labels[0]\n",
    "    min_, max_ = tf.reduce_min(image), tf.reduce_max(image)\n",
    "    image = tf.cast((image - min_)/(max_ - min_)*256, tf.uint8)\n",
    "    \n",
    "    sess = tf.Session()\n",
    "\n",
    "    sess.run(tf.global_variables_initializer())\n",
    "    sess.run(tf.local_variables_initializer())\n",
    "\n",
    "    coord = tf.train.Coordinator()\n",
    "    threads = tf.train.start_queue_runners(sess=sess, coord=coord)\n",
    "\n",
    "    a, b = sess.run([image, label])\n",
    "    plt.imshow(a)\n",
    "    plt.title(capt_decode(b))\n",
    "    plt.show()"
   ]
  },
  {
   "cell_type": "code",
   "execution_count": null,
   "metadata": {},
   "outputs": [],
   "source": []
  }
 ],
 "metadata": {
  "kernelspec": {
   "display_name": "Python 3",
   "language": "python",
   "name": "python3"
  },
  "language_info": {
   "codemirror_mode": {
    "name": "ipython",
    "version": 3
   },
   "file_extension": ".py",
   "mimetype": "text/x-python",
   "name": "python",
   "nbconvert_exporter": "python",
   "pygments_lexer": "ipython3",
   "version": "3.6.5"
  }
 },
 "nbformat": 4,
 "nbformat_minor": 2
}
